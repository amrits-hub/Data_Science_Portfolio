{
 "cells": [
  {
   "cell_type": "markdown",
   "id": "c4a7a384",
   "metadata": {},
   "source": [
    "<h1 align=\"center\">MovieLens ALS Recomendation Model</h1> \n",
    "<h2 align=\"center\">Amrit Sandhir</h2> "
   ]
  },
  {
   "cell_type": "markdown",
   "id": "a91ce3c3",
   "metadata": {},
   "source": [
    "### I: Use Case\n",
    "### II: Exploratory Data Analysis\n",
    "### III. Model Selection, Fit, Evaluation, and Recommendations\n",
    "### IV: Conclusion"
   ]
  },
  {
   "cell_type": "markdown",
   "id": "375bf68e",
   "metadata": {},
   "source": [
    "### I: Use Case\n",
    "\n",
    "Recommendation systems are prolific and ubiqituous across the internet and websites.  Whether they are recommendations by Yelp for good Burmese restaurants in Los Angeles, emails sent by Redfin for house listings, or Netflix movie recemmendations, recommendation algorithms attempt to offer items that closely align with user interests. \n",
    "\n",
    "These algorithms can be generally broken down into two categories: content-based filtering models and collaborative filtering models.  Both try to offer relevant suggestions but do so in different ways.  \n",
    "\n",
    "Content-based filtering models focus on each user's features and past behavior, and offer recomendations based on that user's features/behaviors.  For example, a website an indivdiual frequently visits has gathered information on previous items purchased, and then recommends other items resembling their purchase item history.  These recommendations are typcially based on categorizations or metadata to inform the model on revelant items.  Content-based filtering recommendations are effectively based on individual user behavior.\n",
    "\n",
    "In contrast, collaborative filtering algorithms account for similarities *among users* when making recommendations and do not require metadata do so.  The user/item similarities are created mathematically by gathering patterns among users, whether explicitly provided, such as satisfaction ratings, or implicit, such as whether users 'did' or 'didn't do' something (e.g, viewed an item/movie).  The users/items groupings are inferred through a matrix factorization or decomposition process that derives latent (unobservable) feature associations between users and items.  This is very useful since building a reommendation model with pre-defined features is challenging and may not generate relevant predictions.  \n",
    "\n",
    "The collaborative filtering model will be used in this analysis to generate user recommendations.  Specifically, Spark's Alternating Least Squares (ALS) model will be implemented on the smaller MovieLens dataset (https://grouplens.org/datasets/movielens/latest/).  The dataset contains users who've watched movies and given explicit ratings (i.e., if a user has watched a movie, they've provided a rating).  More details on the specific crieria can be found on https://files.grouplens.org/datasets/movielens/ml-latest-small-README.html. While the dataset contains four csv files (ratings, movies, tags, and links), this analysis will utilize the ratings and movies csv files to build the model and evaluate predictions.  The data definitions and initial schema are provided below.   \n",
    "\n",
    "The next step is to get familiar with the datasets thru Exploratory Data Analysis. "
   ]
  },
  {
   "cell_type": "markdown",
   "id": "976a5469",
   "metadata": {},
   "source": [
    "\n",
    "<h1 align=\"center\">Data Defnitions and Schema</h1> \n",
    "\n",
    "<h1 align=\"center\">ratings.csv</h1> \n",
    "\n",
    "| Field      | Description       | Data Type     | Example | Min Value | Max Value\n",
    "| :---       |     :----         |         :--- |  :----      | :---- | :----\n",
    "| userId |  anonymized, unique user identifers | IntegerType() | 1 | 1 | 610 |\n",
    "| movieId | unique movie identifer | IntegerType() | 1 | 1 | 193609 |\n",
    "| rating | rating given by user | DoubleType() | 3.0 | 0.5 | 5.0 |\n",
    "| timestamp | seconds since midnight Coordinated Universal Time (UTC) of January 1, 1970 | StringType() | 1000129365 | 1000129365 | 999873731|\n",
    "\n",
    "\n",
    "\n",
    "<h1 align=\"center\">movies.csv</h1> \n",
    "\n",
    "| Field      | Description       | Data Type     | Example | Min Value | Max Value\n",
    "| :---       |     :----         |         :--- |  :----      | :---- | :----\n",
    "| movieId | unique movie identifer | IntegerType() | 4 | 1 | 193609 |\n",
    "| title | movie title | StringType() | Waiting to Exhale (1995) | NA | NA |\n",
    "| genre | genre(s) associated with movie | StringType() | Comedy, Drama, Romance | NA | NA |\n"
   ]
  },
  {
   "cell_type": "markdown",
   "id": "938b9820",
   "metadata": {},
   "source": [
    "### II: Exploratory Data Analysis"
   ]
  },
  {
   "cell_type": "code",
   "execution_count": 1,
   "id": "b6de0a92",
   "metadata": {},
   "outputs": [],
   "source": [
    "#import relevant packages\n",
    "import pyspark\n",
    "from platform import python_version\n",
    "import numpy as np\n",
    "import pandas as pd\n",
    "import matplotlib.pyplot as plt\n",
    "from pyspark.sql.types import *\n",
    "from pyspark.sql.functions import *\n",
    "from pyspark.sql import SparkSession\n",
    "\n",
    "#ML relevant packages\n",
    "from pyspark.ml.recommendation import ALS\n",
    "from pyspark.ml.evaluation import RegressionEvaluator\n",
    "from pyspark.ml.tuning import ParamGridBuilder, CrossValidator"
   ]
  },
  {
   "cell_type": "code",
   "execution_count": 2,
   "id": "b2b19cf1",
   "metadata": {},
   "outputs": [
    {
     "data": {
      "text/plain": [
       "'3.3.2'"
      ]
     },
     "execution_count": 2,
     "metadata": {},
     "output_type": "execute_result"
    }
   ],
   "source": [
    "pyspark.__version__"
   ]
  },
  {
   "cell_type": "code",
   "execution_count": 3,
   "id": "d125dcb5",
   "metadata": {},
   "outputs": [
    {
     "data": {
      "text/plain": [
       "'3.9.16'"
      ]
     },
     "execution_count": 3,
     "metadata": {},
     "output_type": "execute_result"
    }
   ],
   "source": [
    "python_version()"
   ]
  },
  {
   "cell_type": "code",
   "execution_count": 4,
   "id": "130b77b7",
   "metadata": {},
   "outputs": [
    {
     "name": "stderr",
     "output_type": "stream",
     "text": [
      "Setting default log level to \"WARN\".\n",
      "To adjust logging level use sc.setLogLevel(newLevel). For SparkR, use setLogLevel(newLevel).\n"
     ]
    },
    {
     "name": "stdout",
     "output_type": "stream",
     "text": [
      "23/04/04 11:00:00 WARN NativeCodeLoader: Unable to load native-hadoop library for your platform... using builtin-java classes where applicable\n"
     ]
    }
   ],
   "source": [
    "#build SparkSession instance\n",
    "spark = pyspark.sql.SparkSession.builder \\\n",
    "                     .appName('recs_application') \\\n",
    "                     .config(\"spark.driver.maxResultSize\", \"8g\") \\\n",
    "                     .config(\"spark.driver.memory\", \"12g\") \\\n",
    "                     .config(\"spark.executor.memory\", \"12g\") \\\n",
    "                     .config(\"spark.master\", \"local[1]\") \\\n",
    "                     .config(\"spark.driver.extraJavaOptions\", \"-Ddev.ludovic.netlib.blas.nativeLib=libmkl_rt.so\")\\\n",
    "                     .config(\"spark.sparkContext.setLogLevel\", \"ERROR\")\\\n",
    "                     .getOrCreate()"
   ]
  },
  {
   "cell_type": "code",
   "execution_count": 5,
   "id": "e3caac3d",
   "metadata": {},
   "outputs": [],
   "source": [
    "#set schema for ratings dataframe \n",
    "schema=StructType([StructField('userId', IntegerType(), nullable=False),\n",
    "         StructField('movieId', IntegerType(), nullable=False),\n",
    "         StructField('rating', DoubleType(), nullable=False),\n",
    "         StructField('timestamp', StringType(), nullable=False)])\n",
    "\n",
    "#read in spark ratings dataframe\n",
    "ratings_df=spark.read.csv('/Users/amritsandhir/Documents/ml-latest-small/ratings.csv', \n",
    "                          header=True, schema=schema)"
   ]
  },
  {
   "cell_type": "code",
   "execution_count": 6,
   "id": "83d1ae63",
   "metadata": {},
   "outputs": [
    {
     "name": "stderr",
     "output_type": "stream",
     "text": [
      "\r",
      "[Stage 0:>                                                          (0 + 1) / 1]\r"
     ]
    },
    {
     "name": "stdout",
     "output_type": "stream",
     "text": [
      "+------+-------+------+---------+\n",
      "|userId|movieId|rating|timestamp|\n",
      "+------+-------+------+---------+\n",
      "|     1|      1|   4.0|964982703|\n",
      "|     1|      3|   4.0|964981247|\n",
      "|     1|      6|   4.0|964982224|\n",
      "|     1|     47|   5.0|964983815|\n",
      "|     1|     50|   5.0|964982931|\n",
      "+------+-------+------+---------+\n",
      "only showing top 5 rows\n",
      "\n"
     ]
    },
    {
     "name": "stderr",
     "output_type": "stream",
     "text": [
      "\r",
      "                                                                                \r"
     ]
    }
   ],
   "source": [
    "ratings_df.show(5)"
   ]
  },
  {
   "cell_type": "code",
   "execution_count": 7,
   "id": "428ffb69",
   "metadata": {},
   "outputs": [
    {
     "name": "stdout",
     "output_type": "stream",
     "text": [
      "+------+-------+------+----------+\n",
      "|userId|movieId|rating|      date|\n",
      "+------+-------+------+----------+\n",
      "|     1|      1|   4.0|2000-07-30|\n",
      "|     1|      3|   4.0|2000-07-30|\n",
      "|     1|      6|   4.0|2000-07-30|\n",
      "|     1|     47|   5.0|2000-07-30|\n",
      "|     1|     50|   5.0|2000-07-30|\n",
      "+------+-------+------+----------+\n",
      "only showing top 5 rows\n",
      "\n"
     ]
    }
   ],
   "source": [
    "#convert dates from unix timestamp column 'timestamp' to datetype\n",
    "ratings_df=ratings_df.withColumn('date', from_unixtime(col('timestamp'), format='yyyy-MM-dd')).drop('timestamp')\n",
    "ratings_df.show(5)"
   ]
  },
  {
   "cell_type": "code",
   "execution_count": 8,
   "id": "7472246d",
   "metadata": {},
   "outputs": [
    {
     "name": "stderr",
     "output_type": "stream",
     "text": [
      "                                                                                \r"
     ]
    },
    {
     "name": "stdout",
     "output_type": "stream",
     "text": [
      "+----------+\n",
      "| min(date)|\n",
      "+----------+\n",
      "|1996-03-29|\n",
      "+----------+\n",
      "\n",
      "+----------+\n",
      "| max(date)|\n",
      "+----------+\n",
      "|2018-09-24|\n",
      "+----------+\n",
      "\n"
     ]
    }
   ],
   "source": [
    "ratings_df.select('date').agg({'date': 'min'}).show()\n",
    "ratings_df.select('date').agg({'date': 'max'}).show()"
   ]
  },
  {
   "cell_type": "code",
   "execution_count": 9,
   "id": "f0c86706",
   "metadata": {},
   "outputs": [
    {
     "name": "stdout",
     "output_type": "stream",
     "text": [
      "\n",
      "\u001b[1mThe ratings dataset consists of 100836 rows and 4 columns\n"
     ]
    }
   ],
   "source": [
    "rows=ratings_df.count()\n",
    "cols=len(ratings_df.columns)\n",
    "\n",
    "print('\\n'+'\\033[1m'+'The ratings dataset consists of {:d} rows and {:d} columns'.format(rows, cols))"
   ]
  },
  {
   "cell_type": "code",
   "execution_count": 10,
   "id": "602402e1",
   "metadata": {},
   "outputs": [
    {
     "name": "stdout",
     "output_type": "stream",
     "text": [
      "\n",
      "\u001b[1mThe data is 72.9% sparse, which means of the 5931640 potential data points only 100836\n",
      "are populated.\n"
     ]
    }
   ],
   "source": [
    "#calculating sparsity of data\n",
    "\n",
    "nbr_users=ratings_df.select('userId').distinct().count()\n",
    "\n",
    "nbr_movies=ratings_df.select('movieId').distinct().count()\n",
    "\n",
    "sparsity=1-(rows/(nbr_users*nbr_users))\n",
    "\n",
    "print('\\n'+'\\033[1m'+'The data is {:.1f}% sparse, which means of the {:d} potential data points only {:d}\\n'\\\n",
    "      'are populated.'.format(sparsity*100, nbr_movies*nbr_users, rows))"
   ]
  },
  {
   "cell_type": "code",
   "execution_count": 11,
   "id": "ba49b184",
   "metadata": {},
   "outputs": [
    {
     "name": "stdout",
     "output_type": "stream",
     "text": [
      "\n",
      "\u001b[1mThe ratings dataset contains 610 distinct viewers and 9724 distinct movie titles.\n"
     ]
    }
   ],
   "source": [
    "distnct_usrs=ratings_df.select('userId').distinct().count()\n",
    "distnct_movies=ratings_df.select('movieId').distinct().count()\n",
    "\n",
    "print('\\n'+'\\033[1m'+'The ratings dataset contains {:d} distinct viewers and {:d} distinct movie titles.'\\\n",
    "      .format(distnct_usrs, distnct_movies))"
   ]
  },
  {
   "cell_type": "code",
   "execution_count": 12,
   "id": "29d80109",
   "metadata": {},
   "outputs": [
    {
     "name": "stdout",
     "output_type": "stream",
     "text": [
      "\n",
      "\u001b[1mUsers have watched on average 165.3 movies.\n",
      "While this may seem high, we have to remember the dataset spans over 22 years,\n",
      "which translates to watching 7.51 movies per year on average.\n"
     ]
    }
   ],
   "source": [
    "max_year=ratings_df.select(year(col('date')).alias('years')).agg({'years': 'max'}).collect()[0][0]\n",
    "\n",
    "min_year=ratings_df.select(year(col('date')).alias('years')).agg({'years': 'min'}).collect()[0][0]\n",
    "\n",
    "avg_nbr_movies_watched=ratings_df.groupBy('userId').count().select(round(avg('count'),2)\\\n",
    "                              .alias('avg_nbr_movies_watched_and_rated'))\\\n",
    "                              .collect()[0][0]\n",
    "\n",
    "print('\\n'+'\\033[1m'+'Users have watched on average {} movies.\\n'\\\n",
    "     'While this may seem high, we have to remember the dataset spans over {} years,\\n'\\\n",
    "     'which translates to watching {:0.2f} movies per year on average.'\\\n",
    "      .format(avg_nbr_movies_watched, (max_year-min_year), avg_nbr_movies_watched/(max_year-min_year)))"
   ]
  },
  {
   "cell_type": "code",
   "execution_count": 13,
   "id": "51d7763f",
   "metadata": {},
   "outputs": [
    {
     "name": "stdout",
     "output_type": "stream",
     "text": [
      "+-----------------------------+\n",
      "|average rating given by users|\n",
      "+-----------------------------+\n",
      "|                          3.5|\n",
      "+-----------------------------+\n",
      "\n"
     ]
    },
    {
     "name": "stderr",
     "output_type": "stream",
     "text": [
      "\r",
      "[Stage 50:>                                                         (0 + 1) / 1]\r"
     ]
    },
    {
     "name": "stdout",
     "output_type": "stream",
     "text": [
      "\u001b[1mMedian rating given by users: 3.5\n"
     ]
    },
    {
     "name": "stderr",
     "output_type": "stream",
     "text": [
      "\r",
      "                                                                                \r"
     ]
    }
   ],
   "source": [
    "ratings_df.agg(round(avg('rating'),2).alias('average rating given by users')).show()\n",
    "\n",
    "median_rating=ratings_df.approxQuantile('rating',[0.5],0)[0]\n",
    "\n",
    "print('\\033[1m'+'Median rating given by users: {:.1f}'.format(median_rating))"
   ]
  },
  {
   "cell_type": "code",
   "execution_count": 14,
   "id": "a4fae5bd",
   "metadata": {},
   "outputs": [
    {
     "name": "stdout",
     "output_type": "stream",
     "text": [
      "+------+\n",
      "|userId|\n",
      "+------+\n",
      "+------+\n",
      "\n",
      "+-------+\n",
      "|movieId|\n",
      "+-------+\n",
      "+-------+\n",
      "\n",
      "+------+\n",
      "|rating|\n",
      "+------+\n",
      "+------+\n",
      "\n",
      "+----+\n",
      "|date|\n",
      "+----+\n",
      "+----+\n",
      "\n",
      "\u001b[1mAll columns are populated in the ratings dataset\n"
     ]
    }
   ],
   "source": [
    "ratings_df.filter(ratings_df['userId'].isNull()).select('userId').show()\n",
    "ratings_df.filter(ratings_df['movieId'].isNull()).select('movieId').show()\n",
    "ratings_df.filter(ratings_df['rating'].isNull()).select('rating').show()\n",
    "ratings_df.filter(ratings_df['date'].isNull()).select('date').show()\n",
    "\n",
    "print('\\033[1m'+'All columns are populated in the ratings dataset')"
   ]
  },
  {
   "cell_type": "code",
   "execution_count": 15,
   "id": "86df15ee",
   "metadata": {},
   "outputs": [
    {
     "name": "stderr",
     "output_type": "stream",
     "text": [
      "                                                                                \r"
     ]
    }
   ],
   "source": [
    "pandas_df=ratings_df.groupBy('rating').count().withColumn('freq', col('count')).drop(col('count')).toPandas()"
   ]
  },
  {
   "cell_type": "code",
   "execution_count": 16,
   "id": "b9e01d1c",
   "metadata": {},
   "outputs": [
    {
     "data": {
      "image/png": "[encoded data removed]",
      "text/plain": [
       "<Figure size 640x480 with 1 Axes>"
      ]
     },
     "metadata": {},
     "output_type": "display_data"
    }
   ],
   "source": [
    "pandas_df.sort_values(by='rating').plot('rating', kind='bar', legend=False)\n",
    "plt.title('Distribution of User Movie Ratings from 1996-03 to 2018-09', size=12)\n",
    "plt.show()"
   ]
  },
  {
   "cell_type": "code",
   "execution_count": 17,
   "id": "b312df92",
   "metadata": {},
   "outputs": [
    {
     "name": "stdout",
     "output_type": "stream",
     "text": [
      "root\n",
      " |-- movieId: integer (nullable = true)\n",
      " |-- title: string (nullable = true)\n",
      " |-- genres: string (nullable = true)\n",
      "\n",
      "+-------+----------------------------------+-------------------------------------------+\n",
      "|movieId|title                             |genres                                     |\n",
      "+-------+----------------------------------+-------------------------------------------+\n",
      "|1      |Toy Story (1995)                  |Adventure|Animation|Children|Comedy|Fantasy|\n",
      "|2      |Jumanji (1995)                    |Adventure|Children|Fantasy                 |\n",
      "|3      |Grumpier Old Men (1995)           |Comedy|Romance                             |\n",
      "|4      |Waiting to Exhale (1995)          |Comedy|Drama|Romance                       |\n",
      "|5      |Father of the Bride Part II (1995)|Comedy                                     |\n",
      "+-------+----------------------------------+-------------------------------------------+\n",
      "only showing top 5 rows\n",
      "\n",
      "\n",
      "\u001b[1m\n",
      "There are 9737 movies in the movies dataset.\n"
     ]
    }
   ],
   "source": [
    "#create spark movies dataframe with genres\n",
    "\n",
    "movies_df=spark.read.csv('/Users/amritsandhir/Documents/ml-latest-small/movies.csv', \n",
    "                          header=True, inferSchema=True)\n",
    "\n",
    "movies_df.printSchema()\n",
    "\n",
    "movies_df.show(5, truncate=False)\n",
    "\n",
    "nbr_movies=movies_df.select('title').distinct().count()\n",
    "print('\\n'+'\\033[1m'+'\\nThere are {:d} movies in the movies dataset.'.format(nbr_movies))"
   ]
  },
  {
   "cell_type": "code",
   "execution_count": 18,
   "id": "514a1d47",
   "metadata": {},
   "outputs": [
    {
     "name": "stdout",
     "output_type": "stream",
     "text": [
      "+-------+----------------------------------+-------------------------------------------------+\n",
      "|movieId|title                             |genre_array                                      |\n",
      "+-------+----------------------------------+-------------------------------------------------+\n",
      "|1      |Toy Story (1995)                  |[Adventure, Animation, Children, Comedy, Fantasy]|\n",
      "|2      |Jumanji (1995)                    |[Adventure, Children, Fantasy]                   |\n",
      "|3      |Grumpier Old Men (1995)           |[Comedy, Romance]                                |\n",
      "|4      |Waiting to Exhale (1995)          |[Comedy, Drama, Romance]                         |\n",
      "|5      |Father of the Bride Part II (1995)|[Comedy]                                         |\n",
      "+-------+----------------------------------+-------------------------------------------------+\n",
      "only showing top 5 rows\n",
      "\n"
     ]
    }
   ],
   "source": [
    "#creating genre_array for genres\n",
    "udf_clm_split = UserDefinedFunction(lambda x: x.split('|'), ArrayType(StringType()))\n",
    "movies_df=movies_df.withColumn('genre_array', udf_clm_split('genres')).drop('genres')\n",
    "movies_df.show(5, truncate=False)"
   ]
  },
  {
   "cell_type": "code",
   "execution_count": 19,
   "id": "2298b54b",
   "metadata": {},
   "outputs": [
    {
     "name": "stdout",
     "output_type": "stream",
     "text": [
      "\n",
      "\u001b[1mDrama, Comedy, and Thriller are the three highest individual genres\n",
      "\n",
      "+------------------+-------------------+-------+\n",
      "|            genres|nbr_movies_by_genre|percent|\n",
      "+------------------+-------------------+-------+\n",
      "|             Drama|               4361| 19.747|\n",
      "|            Comedy|               3756| 17.008|\n",
      "|          Thriller|               1894|  8.576|\n",
      "|            Action|               1828|  8.277|\n",
      "|           Romance|               1596|  7.227|\n",
      "|         Adventure|               1263|  5.719|\n",
      "|             Crime|               1199|  5.429|\n",
      "|            Sci-Fi|                980|  4.438|\n",
      "|            Horror|                978|  4.429|\n",
      "|           Fantasy|                779|  3.527|\n",
      "|          Children|                664|  3.007|\n",
      "|         Animation|                611|  2.767|\n",
      "|           Mystery|                573|  2.595|\n",
      "|       Documentary|                440|  1.992|\n",
      "|               War|                382|   1.73|\n",
      "|           Musical|                334|  1.512|\n",
      "|           Western|                167|  0.756|\n",
      "|              IMAX|                158|  0.715|\n",
      "|         Film-Noir|                 87|  0.394|\n",
      "|(no genres listed)|                 34|  0.154|\n",
      "+------------------+-------------------+-------+\n",
      "\n"
     ]
    }
   ],
   "source": [
    "movies_df.createOrReplaceTempView('movies_temp')\n",
    "\n",
    "query='select genres from movies_temp lateral view explode(genre_array) exploded_table as genres'\n",
    "\n",
    "distnct_genres_df=spark.sql(query).groupBy('genres')\\\n",
    "                .agg(count('genres').alias('nbr_movies_by_genre')).sort(desc('nbr_movies_by_genre'))\n",
    "\n",
    "total=distnct_genres_df.groupBy().sum().collect()[0][0]\n",
    "\n",
    "distnct_genres_df=distnct_genres_df.withColumn('percent', round((col('nbr_movies_by_genre')/total)*100,3))\n",
    "\n",
    "print('\\n'+'\\033[1m'+'Drama, Comedy, and Thriller are the three highest individual genres\\n')\n",
    "distnct_genres_df.show()"
   ]
  },
  {
   "cell_type": "code",
   "execution_count": 20,
   "id": "6cf086d2",
   "metadata": {},
   "outputs": [
    {
     "data": {
      "text/plain": [
       "[496, 31, 137, 451, 53]"
      ]
     },
     "execution_count": 20,
     "metadata": {},
     "output_type": "execute_result"
    }
   ],
   "source": [
    "#creating a random set of 5 unique users\n",
    "dstnct_users=ratings_df.select('userId').distinct()\n",
    "\n",
    "smpl_usrs_df=dstnct_users.sample(withReplacement=False, fraction=0.5, seed=42).limit(5)\n",
    "\n",
    "smpl_usrs_lst=list(smpl_usrs_df.toPandas()['userId'])\n",
    "\n",
    "smpl_usrs_lst"
   ]
  },
  {
   "cell_type": "code",
   "execution_count": 21,
   "id": "3c4b227c",
   "metadata": {},
   "outputs": [
    {
     "name": "stdout",
     "output_type": "stream",
     "text": [
      "\n",
      "\u001b[1mFive top rated movies of five random users\n",
      "\n"
     ]
    },
    {
     "name": "stderr",
     "output_type": "stream",
     "text": [
      "\r",
      "[Stage 91:==============================================>           (4 + 1) / 5]\r",
      "\r",
      "                                                                                \r"
     ]
    },
    {
     "name": "stdout",
     "output_type": "stream",
     "text": [
      "+------+-------+------+----------+--------------------+--------------------+\n",
      "|userId|movieId|rating|      date|               title|         genre_array|\n",
      "+------+-------+------+----------+--------------------+--------------------+\n",
      "|   496|    904|   5.0|2014-11-04|  Rear Window (1954)| [Mystery, Thriller]|\n",
      "|   496|    858|   5.0|2014-11-04|Godfather, The (1...|      [Crime, Drama]|\n",
      "|   496| 106920|   4.5|2014-11-04|          Her (2013)|[Drama, Romance, ...|\n",
      "|   496|  58559|   4.5|2014-11-09|Dark Knight, The ...|[Action, Crime, D...|\n",
      "|   496|    912|   4.5|2014-11-04|   Casablanca (1942)|    [Drama, Romance]|\n",
      "|    31|   5060|   5.0|1996-12-13|M*A*S*H (a.k.a. M...|[Comedy, Drama, War]|\n",
      "|    31|   1391|   5.0|1996-12-13|Mars Attacks! (1996)|[Action, Comedy, ...|\n",
      "|    31|   1363|   5.0|1996-12-13|Preacher's Wife, ...|             [Drama]|\n",
      "|    31|   1361|   5.0|1996-12-13|Paradise Lost: Th...|       [Documentary]|\n",
      "|    31|   1282|   5.0|1996-12-13|     Fantasia (1940)|[Animation, Child...|\n",
      "|   137|   7153|   5.0|2008-03-06|Lord of the Rings...|[Action, Adventur...|\n",
      "|   137|   6650|   5.0|2008-03-06|Kind Hearts and C...|     [Comedy, Drama]|\n",
      "|   137|   4993|   5.0|2008-03-06|Lord of the Rings...|[Adventure, Fantasy]|\n",
      "|   137|   2064|   5.0|2008-03-06|   Roger & Me (1989)|       [Documentary]|\n",
      "|   137|   1949|   5.0|2008-03-06|Man for All Seaso...|             [Drama]|\n",
      "|   451|    805|   5.0|1997-01-23|Time to Kill, A (...|   [Drama, Thriller]|\n",
      "|   451|    708|   5.0|1997-01-23|Truth About Cats ...|   [Comedy, Romance]|\n",
      "|   451|    608|   5.0|1997-01-23|        Fargo (1996)|[Comedy, Crime, D...|\n",
      "|   451|    593|   5.0|1997-01-26|Silence of the La...|[Crime, Horror, T...|\n",
      "|   451|    112|   5.0|1997-01-23|Rumble in the Bro...|[Action, Adventur...|\n",
      "|    53|   4019|   5.0|2009-03-22|Finding Forrester...|             [Drama]|\n",
      "|    53|   3100|   5.0|2009-03-22|River Runs Throug...|             [Drama]|\n",
      "|    53|   2686|   5.0|2009-03-22|Red Violin, The (...|    [Drama, Mystery]|\n",
      "|    53|   2616|   5.0|2009-03-22|   Dick Tracy (1990)|     [Action, Crime]|\n",
      "|    53|   1982|   5.0|2009-03-22|    Halloween (1978)|            [Horror]|\n",
      "+------+-------+------+----------+--------------------+--------------------+\n",
      "\n",
      "\n",
      "\u001b[1mFive lowest rated movies of five random users\n",
      "\n",
      "+------+-------+------+----------+--------------------+--------------------+\n",
      "|userId|movieId|rating|      date|               title|         genre_array|\n",
      "+------+-------+------+----------+--------------------+--------------------+\n",
      "|   496|    720|   1.0|2014-11-04|Wallace & Gromit:...|[Adventure, Anima...|\n",
      "|   496|   2950|   1.0|2014-11-04|Blue Lagoon, The ...|[Adventure, Drama...|\n",
      "|   496|   8640|   2.0|2014-11-04|  King Arthur (2004)|[Action, Adventur...|\n",
      "|   496|   4191|   2.5|2014-11-04|        Alfie (1966)|[Comedy, Drama, R...|\n",
      "|   496|   8865|   2.5|2014-11-04|Sky Captain and t...|[Action, Adventur...|\n",
      "|    31|   1405|   1.0|1997-01-02|Beavis and Butt-H...|[Adventure, Anima...|\n",
      "|    31|     25|   2.0|1996-12-13|Leaving Las Vegas...|    [Drama, Romance]|\n",
      "|    31|    788|   2.0|1996-12-13|Nutty Professor, ...|[Comedy, Fantasy,...|\n",
      "|    31|   1099|   2.0|1996-12-13|Christmas Carol, ...|[Children, Drama,...|\n",
      "|    31|   1265|   2.0|1996-12-13|Groundhog Day (1993)|[Comedy, Fantasy,...|\n",
      "|   137|    778|   2.0|2008-03-06|Trainspotting (1996)|[Comedy, Crime, D...|\n",
      "|   137|   3072|   2.0|2008-03-06|   Moonstruck (1987)|   [Comedy, Romance]|\n",
      "|   137|   4963|   2.5|2008-03-06|Ocean's Eleven (2...|   [Crime, Thriller]|\n",
      "|   137|    296|   3.0|2008-03-06| Pulp Fiction (1994)|[Comedy, Crime, D...|\n",
      "|   137|    724|   3.0|2008-03-06|   Craft, The (1996)|[Drama, Fantasy, ...|\n",
      "|   451|    788|   1.0|1997-01-23|Nutty Professor, ...|[Comedy, Fantasy,...|\n",
      "|   451|      5|   3.0|1997-01-23|Father of the Bri...|            [Comedy]|\n",
      "|   451|      7|   3.0|1997-01-23|      Sabrina (1995)|   [Comedy, Romance]|\n",
      "|   451|    376|   3.0|1997-01-23|River Wild, The (...|  [Action, Thriller]|\n",
      "|   451|    474|   3.0|1997-01-26|In the Line of Fi...|  [Action, Thriller]|\n",
      "|    53|    203|   5.0|2009-03-22|To Wong Foo, Than...|            [Comedy]|\n",
      "|    53|    249|   5.0|2009-03-22|Immortal Beloved ...|    [Drama, Romance]|\n",
      "|    53|    381|   5.0|2009-03-22|When a Man Loves ...|    [Drama, Romance]|\n",
      "|    53|    413|   5.0|2009-03-22|     Airheads (1994)|            [Comedy]|\n",
      "|    53|    481|   5.0|2009-03-22|   Kalifornia (1993)|   [Drama, Thriller]|\n",
      "+------+-------+------+----------+--------------------+--------------------+\n",
      "\n",
      "\n",
      "\u001b[1mInterestingly userId 53 is quite enthusiastic about movies watched.\n",
      "Even their lowest provided ratings are 5 stars.\n"
     ]
    },
    {
     "name": "stderr",
     "output_type": "stream",
     "text": [
      "\r",
      "[Stage 103:=============================================>           (4 + 1) / 5]\r",
      "\r",
      "                                                                                \r"
     ]
    }
   ],
   "source": [
    "movie_rating_smpl_usrs_df=ratings_df.join(broadcast(movies_df), on='movieId', how='left')\\\n",
    "                                .join(broadcast(smpl_usrs_df), on='userId', how='inner')\n",
    "\n",
    "usr_496=movie_rating_smpl_usrs_df.filter(col('userId')==496).orderBy(['rating', 'movieId'], ascending=False).limit(5)\n",
    "usr_31=movie_rating_smpl_usrs_df.filter(col('userId')==31).orderBy(['rating', 'movieId'], ascending=False).limit(5)\n",
    "usr_137=movie_rating_smpl_usrs_df.filter(col('userId')==137).orderBy(['rating', 'movieId'], ascending=False).limit(5)\n",
    "usr_451=movie_rating_smpl_usrs_df.filter(col('userId')==451).orderBy(['rating', 'movieId'], ascending=False).limit(5)\n",
    "usr_53=movie_rating_smpl_usrs_df.filter(col('userId')==53).orderBy(['rating', 'movieId'], ascending=False).limit(5)\n",
    "\n",
    "print('\\n'+'\\033[1m'+'Five top rated movies of five random users\\n')\n",
    "usr_496.union(usr_31).union(usr_137).union(usr_451).union(usr_53).show(5*5)\n",
    "\n",
    "usr_496_l=movie_rating_smpl_usrs_df.filter(col('userId')==496).orderBy(['rating', 'movieId'], ascending=True).limit(5)\n",
    "usr_31_l=movie_rating_smpl_usrs_df.filter(col('userId')==31).orderBy(['rating', 'movieId'], ascending=True).limit(5)\n",
    "usr_137_l=movie_rating_smpl_usrs_df.filter(col('userId')==137).orderBy(['rating', 'movieId'], ascending=True).limit(5)\n",
    "usr_451_l=movie_rating_smpl_usrs_df.filter(col('userId')==451).orderBy(['rating', 'movieId'], ascending=True).limit(5)\n",
    "usr_53_l=movie_rating_smpl_usrs_df.filter(col('userId')==53).orderBy(['rating', 'movieId'], ascending=True).limit(5)\n",
    "\n",
    "\n",
    "print('\\n'+'\\033[1m'+'Five lowest rated movies of five random users\\n')\n",
    "usr_496_l.union(usr_31_l).union(usr_137_l).union(usr_451_l).union(usr_53_l).show(5*5)\n",
    "\n",
    "print('\\n'+'\\033[1m'+'Interestingly userId 53 is quite enthusiastic about movies watched.\\n'\\\n",
    "      'Even their lowest provided ratings are 5 stars.')"
   ]
  },
  {
   "cell_type": "markdown",
   "id": "3ceb63c7",
   "metadata": {},
   "source": [
    "### III. Model Selection, Fit, Evaluation, and Recommendations\n",
    "\n",
    "Now that we're familar with the underlying data, the ratings dataframe will be randomly split into training and test sets.  Using the ALS model as the base model, 5-fold cross validation will be done on the training set with a grid search on the ALS rank parameter (i.e., number of latent features the model should hold) and the regParam (degree to which the model is regularized, higher regParam values penalize model overfitting).  \n",
    "\n",
    "Since we are provided explicit preferences (user ratings), the evaluation metric will be the root mean squared error (rsme).  It  measures of how far, on average, the model's predicted ratings are from true ratings.  The cross validated model with the lowest rsme (i.e., best model) will then be used for predictions on the test set.  \n",
    "\n",
    "Lastly, we will use this model to recommend movies not seen by 5 randomly selected users. "
   ]
  },
  {
   "cell_type": "code",
   "execution_count": 22,
   "id": "029d6034",
   "metadata": {},
   "outputs": [
    {
     "name": "stderr",
     "output_type": "stream",
     "text": [
      "\r",
      "[Stage 104:>                                                        (0 + 1) / 1]\r",
      "\r",
      "                                                                                \r"
     ]
    },
    {
     "name": "stdout",
     "output_type": "stream",
     "text": [
      "23/04/04 11:00:36 WARN InstanceBuilder$NativeBLAS: Failed to load implementation from:dev.ludovic.netlib.blas.JNIBLAS\n",
      "23/04/04 11:00:36 WARN InstanceBuilder$NativeBLAS: Failed to load implementation from:dev.ludovic.netlib.blas.ForeignLinkerBLAS\n"
     ]
    },
    {
     "name": "stderr",
     "output_type": "stream",
     "text": [
      "                                                                                \r"
     ]
    }
   ],
   "source": [
    "train, test = ratings_df.randomSplit([0.8,0.2], seed=42)\n",
    "\n",
    "als=ALS(userCol=\"userId\", itemCol=\"movieId\", ratingCol=\"rating\",\n",
    "        nonnegative=True, coldStartStrategy=\"drop\", \n",
    "        implicitPrefs=False)\n",
    "\n",
    "\n",
    "ranks=[10, 15, 20]\n",
    "max_iter=[20]\n",
    "reg_param=[0.1, 0.5, 0.9]\n",
    "\n",
    "param_grid=ParamGridBuilder().addGrid(als.rank, ranks).addGrid(als.maxIter, max_iter)\\\n",
    "                             .addGrid(als.regParam, reg_param)\\\n",
    "                             .build()\n",
    "\n",
    "#evaluate performance using root mean squared error (rsme) metric\n",
    "evaluator = RegressionEvaluator(metricName=\"rmse\", labelCol=\"rating\", predictionCol='prediction')\n",
    "\n",
    "cv=CrossValidator(estimator=als, estimatorParamMaps=param_grid, evaluator=evaluator, numFolds=5)\n",
    "\n",
    "als_model=cv.fit(train)"
   ]
  },
  {
   "cell_type": "code",
   "execution_count": 23,
   "id": "43497670",
   "metadata": {},
   "outputs": [
    {
     "name": "stdout",
     "output_type": "stream",
     "text": [
      "\n",
      "\u001b[1mRSMEs produced thru cross validation:\n",
      "\n"
     ]
    },
    {
     "data": {
      "text/plain": [
       "array([0.8997, 1.0097, 1.2519, 0.8991, 1.0097, 1.2519, 0.9001, 1.0097,\n",
       "       1.2519])"
      ]
     },
     "execution_count": 23,
     "metadata": {},
     "output_type": "execute_result"
    }
   ],
   "source": [
    "print('\\n\\033[1m'+'RSMEs produced thru cross validation:\\n')\n",
    "np.round(als_model.avgMetrics,4)"
   ]
  },
  {
   "cell_type": "code",
   "execution_count": 24,
   "id": "5c2ecfa4",
   "metadata": {},
   "outputs": [],
   "source": [
    "rslts=[*zip(als_model.avgMetrics, param_grid)]"
   ]
  },
  {
   "cell_type": "code",
   "execution_count": 25,
   "id": "3ba2da01",
   "metadata": {},
   "outputs": [],
   "source": [
    "rslts_arry=np.array(rslts)"
   ]
  },
  {
   "cell_type": "code",
   "execution_count": 26,
   "id": "a33c2bb2",
   "metadata": {},
   "outputs": [
    {
     "data": {
      "text/plain": [
       "array([[0.8996885430132571,\n",
       "        {Param(parent='ALS_eed884b01e37', name='rank', doc='rank of the factorization'): 10, Param(parent='ALS_eed884b01e37', name='maxIter', doc='max number of iterations (>= 0).'): 20, Param(parent='ALS_eed884b01e37', name='regParam', doc='regularization parameter (>= 0).'): 0.1}],\n",
       "       [1.0096708851311447,\n",
       "        {Param(parent='ALS_eed884b01e37', name='rank', doc='rank of the factorization'): 10, Param(parent='ALS_eed884b01e37', name='maxIter', doc='max number of iterations (>= 0).'): 20, Param(parent='ALS_eed884b01e37', name='regParam', doc='regularization parameter (>= 0).'): 0.5}]],\n",
       "      dtype=object)"
      ]
     },
     "execution_count": 26,
     "metadata": {},
     "output_type": "execute_result"
    }
   ],
   "source": [
    "rslts_arry[:2]"
   ]
  },
  {
   "cell_type": "code",
   "execution_count": 27,
   "id": "65221612",
   "metadata": {},
   "outputs": [],
   "source": [
    "#get the index of lowest rsme generated from cross validation results\n",
    "idx=np.argmin(rslts_arry[:,0])\n",
    "\n",
    "best_rsme=rslts[idx]\n",
    "\n",
    "best_hyper_params=[*zip(('rank', 'maxIter', 'regParam'),list(rslts_arry[3][1].values()))]"
   ]
  },
  {
   "cell_type": "code",
   "execution_count": 28,
   "id": "d6b6d0a1",
   "metadata": {},
   "outputs": [
    {
     "name": "stdout",
     "output_type": "stream",
     "text": [
      "\n",
      "\u001b[1mWith the cross validation results, the best model had an rmse of 0.8991\n",
      "with hyperparameters rank: 15, maxIter: 20, and regParam: 0.1.\n"
     ]
    }
   ],
   "source": [
    "print('\\n\\033[1m'+'With the cross validation results, the best model had an rmse of {:0.4f}\\n'\\\n",
    "      'with hyperparameters {}: {}, {}: {}, and {}: {}.'\n",
    "      .format(best_rsme[0], best_hyper_params[0][0], best_hyper_params[0][1],\n",
    "             best_hyper_params[1][0], best_hyper_params[1][1], \n",
    "             best_hyper_params[2][0], best_hyper_params[2][1]))"
   ]
  },
  {
   "cell_type": "code",
   "execution_count": 29,
   "id": "963de4d8",
   "metadata": {},
   "outputs": [],
   "source": [
    "#best model (i.e., lowest rsme) produced thru cross validation\n",
    "best_model=als_model.bestModel\n",
    "\n",
    "#generate predictions on the test set with the best model \n",
    "predictions=best_model.transform(test)"
   ]
  },
  {
   "cell_type": "code",
   "execution_count": 30,
   "id": "4d5e4931",
   "metadata": {},
   "outputs": [
    {
     "name": "stderr",
     "output_type": "stream",
     "text": [
      "                                                                                \r"
     ]
    },
    {
     "name": "stdout",
     "output_type": "stream",
     "text": [
      "+------+-------+------+----------+----------+\n",
      "|userId|movieId|rating|      date|prediction|\n",
      "+------+-------+------+----------+----------+\n",
      "|    53|   3100|   5.0|2009-03-22| 5.4888086|\n",
      "|   171|   1104|   5.0|1997-06-21| 5.3132668|\n",
      "|    25| 177593|   5.0|2018-08-28| 5.2914305|\n",
      "|    99|    318|   5.0|1996-04-18| 5.2090483|\n",
      "|    93|    318|   4.0|1999-11-18| 5.1751447|\n",
      "|   276|      1|   4.0|1997-03-14| 5.1596756|\n",
      "|   371|   1206|   5.0|2014-08-10| 5.1410346|\n",
      "|   375|   4226|   5.0|2008-10-29| 5.1326966|\n",
      "|   452|   4011|   5.0|2002-04-23|  5.126504|\n",
      "|   597|    922|   5.0|1999-10-19| 5.1191196|\n",
      "|   584|    356|   5.0|1996-06-16| 5.1112638|\n",
      "|    20|    899|   4.0|2003-05-28|  5.092892|\n",
      "|   371|   1274|   5.0|2014-08-10|  5.088125|\n",
      "|    30|    318|   5.0|2017-07-18|  5.083262|\n",
      "|   122|   1089|   5.0|2016-04-24|  5.064089|\n",
      "|   515|     50|   4.5|2017-12-19| 5.0613194|\n",
      "|   572|    527|   5.0|1999-12-22| 5.0553827|\n",
      "|   275|   3468|   5.0|2003-03-30|  5.050259|\n",
      "|   171|   1201|   5.0|1997-06-21|  5.049565|\n",
      "|   224|    527|   5.0|2000-10-17|  5.049344|\n",
      "+------+-------+------+----------+----------+\n",
      "only showing top 20 rows\n",
      "\n"
     ]
    },
    {
     "name": "stderr",
     "output_type": "stream",
     "text": [
      "                                                                                \r"
     ]
    },
    {
     "name": "stdout",
     "output_type": "stream",
     "text": [
      "+------+-------+------+----------+----------+\n",
      "|userId|movieId|rating|      date|prediction|\n",
      "+------+-------+------+----------+----------+\n",
      "|   448|  79879|   3.0|2012-08-26| 0.2805143|\n",
      "|   599|   6348|   2.5|2017-06-26|0.31717357|\n",
      "|   571|   1325|   2.0|2000-08-21| 0.3228615|\n",
      "|   610|  79879|   3.0|2017-05-03| 0.3375515|\n",
      "|   119| 108689|   4.0|2016-02-14|0.35852453|\n",
      "|    68|   8677|   2.0|2006-09-17|0.36050963|\n",
      "|   217|   3431|   2.0|2000-04-16|   0.36128|\n",
      "|   448|   6348|   2.0|2003-06-01| 0.3713381|\n",
      "|   382| 152079|   3.5|2018-01-05|0.39066577|\n",
      "|   313|   2363|   3.0|2002-08-27|0.40284455|\n",
      "|   265|   2364|   2.0|2000-08-03|0.40816408|\n",
      "|   219|  55292|   1.0|2008-01-21|0.42049104|\n",
      "|   307|   5538|   2.0|2007-09-12|0.44428742|\n",
      "|   307|   5539|   2.0|2007-09-12|0.44428742|\n",
      "|    62| 128512|   3.5|2018-04-06| 0.4455455|\n",
      "|   571|   1326|   2.0|2000-08-21|0.45792106|\n",
      "|   377|   8138|   4.0|2012-06-21| 0.4813703|\n",
      "|   599|   6320|   2.0|2017-06-26| 0.5087939|\n",
      "|   274|   4241|   3.0|2007-02-23|0.51583284|\n",
      "|   599|   2582|   2.5|2018-02-20| 0.5385575|\n",
      "+------+-------+------+----------+----------+\n",
      "only showing top 20 rows\n",
      "\n",
      "\n",
      "\u001b[1mThe predictions output produces ratings out of range 0.5 to 5, which doesn't make sense\n",
      "since 0.5 is lowest possible rating and 5 is the higest rating possible.\n",
      "Let's limit any rating below 0.5 to 0.5 and above 5 to 5.\n"
     ]
    }
   ],
   "source": [
    "predictions.orderBy('prediction', ascending=False).show()\n",
    "\n",
    "predictions.orderBy('prediction', ascending=True).show()\n",
    "\n",
    "print('\\n\\033[1m'+'The predictions output produces ratings out of range 0.5 to 5, which doesn\\'t make sense\\n'\\\n",
    "      'since 0.5 is lowest possible rating and 5 is the higest rating possible.\\n'\\\n",
    "      'Let\\'s limit any rating below 0.5 to 0.5 and above 5 to 5.')"
   ]
  },
  {
   "cell_type": "code",
   "execution_count": 31,
   "id": "d782dbc2",
   "metadata": {},
   "outputs": [
    {
     "name": "stderr",
     "output_type": "stream",
     "text": [
      "                                                                                \r"
     ]
    },
    {
     "name": "stdout",
     "output_type": "stream",
     "text": [
      "+------+-------+------+----------+----------+\n",
      "|userId|movieId|rating|      date|prediction|\n",
      "+------+-------+------+----------+----------+\n",
      "|   171|   1104|   5.0|1997-06-21|       5.0|\n",
      "|   375|   4226|   5.0|2008-10-29|       5.0|\n",
      "|   171|   1201|   5.0|1997-06-21|       5.0|\n",
      "|    53|   3100|   5.0|2009-03-22|       5.0|\n",
      "|   597|    922|   5.0|1999-10-19|       5.0|\n",
      "|   122|    593|   5.0|2016-04-24|       5.0|\n",
      "|   122|   1089|   5.0|2016-04-24|       5.0|\n",
      "|   572|    527|   5.0|1999-12-22|       5.0|\n",
      "|    93|    593|   5.0|1999-11-18|       5.0|\n",
      "|   224|    527|   5.0|2000-10-17|       5.0|\n",
      "|   494|   1204|   3.0|2001-09-13|       5.0|\n",
      "|   122|   1213|   5.0|2016-04-24|       5.0|\n",
      "|    93|    318|   4.0|1999-11-18|       5.0|\n",
      "|    20|    899|   4.0|2003-05-28|       5.0|\n",
      "|   452|   4011|   5.0|2002-04-23|       5.0|\n",
      "|    51|    522|   3.5|2009-01-02|       5.0|\n",
      "|    25| 177593|   5.0|2018-08-28|       5.0|\n",
      "|   371|   1206|   5.0|2014-08-10|       5.0|\n",
      "|   371|   1274|   5.0|2014-08-10|       5.0|\n",
      "|   515|     50|   4.5|2017-12-19|       5.0|\n",
      "+------+-------+------+----------+----------+\n",
      "only showing top 20 rows\n",
      "\n"
     ]
    },
    {
     "name": "stderr",
     "output_type": "stream",
     "text": [
      "\r",
      "[Stage 8991:============================================>          (8 + 1) / 10]\r",
      "\r",
      "                                                                                \r"
     ]
    },
    {
     "name": "stdout",
     "output_type": "stream",
     "text": [
      "+------+-------+------+----------+------------------+\n",
      "|userId|movieId|rating|      date|        prediction|\n",
      "+------+-------+------+----------+------------------+\n",
      "|   599|   6348|   2.5|2017-06-26|               0.5|\n",
      "|   217|   3431|   2.0|2000-04-16|               0.5|\n",
      "|   265|   2364|   2.0|2000-08-03|               0.5|\n",
      "|   307|   5538|   2.0|2007-09-12|               0.5|\n",
      "|   307|   5539|   2.0|2007-09-12|               0.5|\n",
      "|    68|   8677|   2.0|2006-09-17|               0.5|\n",
      "|    62| 128512|   3.5|2018-04-06|               0.5|\n",
      "|   219|  55292|   1.0|2008-01-21|               0.5|\n",
      "|   382| 152079|   3.5|2018-01-05|               0.5|\n",
      "|   119| 108689|   4.0|2016-02-14|               0.5|\n",
      "|   571|   1325|   2.0|2000-08-21|               0.5|\n",
      "|   571|   1326|   2.0|2000-08-21|               0.5|\n",
      "|   313|   2363|   3.0|2002-08-27|               0.5|\n",
      "|   448|   6348|   2.0|2003-06-01|               0.5|\n",
      "|   377|   8138|   4.0|2012-06-21|               0.5|\n",
      "|   448|  79879|   3.0|2012-08-26|               0.5|\n",
      "|   610|  79879|   3.0|2017-05-03|               0.5|\n",
      "|   599|   6320|   2.0|2017-06-26|0.5087938904762268|\n",
      "|   274|   4241|   3.0|2007-02-23|0.5158328413963318|\n",
      "|   599|   2582|   2.5|2018-02-20|0.5385575294494629|\n",
      "+------+-------+------+----------+------------------+\n",
      "only showing top 20 rows\n",
      "\n"
     ]
    }
   ],
   "source": [
    "predictions=predictions.withColumn('prediction',\n",
    "                                   when(predictions.prediction<0.5, 0.5)\n",
    "                                   .when(predictions.prediction>5,5)\n",
    "                                   .otherwise(predictions.prediction))\n",
    "\n",
    "predictions.orderBy('prediction', ascending=False).show()\n",
    "\n",
    "predictions.orderBy('prediction', ascending=True).show()"
   ]
  },
  {
   "cell_type": "code",
   "execution_count": 32,
   "id": "92a0e52a",
   "metadata": {},
   "outputs": [
    {
     "name": "stderr",
     "output_type": "stream",
     "text": [
      "                                                                                \r"
     ]
    },
    {
     "name": "stdout",
     "output_type": "stream",
     "text": [
      "\n",
      "\u001b[1mRMSE: 0.87 on test set.\n"
     ]
    }
   ],
   "source": [
    "#calculate RSME on predictions of test set\n",
    "rmse=evaluator.evaluate(predictions)\n",
    "\n",
    "print('\\n\\033[1m'+'RMSE: {:0.2f} on test set.'.format(rmse))"
   ]
  },
  {
   "cell_type": "code",
   "execution_count": 33,
   "id": "cb390dd1",
   "metadata": {},
   "outputs": [
    {
     "data": {
      "text/plain": [
       "[496, 31, 137, 451, 53]"
      ]
     },
     "execution_count": 33,
     "metadata": {},
     "output_type": "execute_result"
    }
   ],
   "source": [
    "smpl_usrs_lst"
   ]
  },
  {
   "cell_type": "code",
   "execution_count": 34,
   "id": "7dfd8cc4",
   "metadata": {},
   "outputs": [
    {
     "name": "stderr",
     "output_type": "stream",
     "text": [
      "[Stage 9181:============================================>          (8 + 1) / 10]\r"
     ]
    },
    {
     "name": "stdout",
     "output_type": "stream",
     "text": [
      "+------+-------+------+------------------+\n",
      "|userId|movieId|rating|        prediction|\n",
      "+------+-------+------+------------------+\n",
      "|   137|    858|   5.0| 4.438312530517578|\n",
      "|   451|    481|   3.0|3.2104594707489014|\n",
      "|   137|   3198|   3.5|3.6647322177886963|\n",
      "|   496| 106920|   4.5|3.9127352237701416|\n",
      "|   137|   1093|   4.0| 3.147963523864746|\n",
      "|   137|    924|   4.0| 4.158868312835693|\n",
      "|   137|   1207|   3.0|  4.04432487487793|\n",
      "|   137|    912|   5.0| 4.404143810272217|\n",
      "|   496|    912|   4.5|3.8968987464904785|\n",
      "|   137|   1304|   4.5|  4.10524845123291|\n",
      "+------+-------+------+------------------+\n",
      "only showing top 10 rows\n",
      "\n"
     ]
    },
    {
     "name": "stderr",
     "output_type": "stream",
     "text": [
      "\r",
      "                                                                                \r"
     ]
    }
   ],
   "source": [
    "predictions.filter(predictions['userID'].isin(496, 31, 137, 451, 53))\\\n",
    "           .select('userId', 'movieId', 'rating', 'prediction').show(10)"
   ]
  },
  {
   "cell_type": "code",
   "execution_count": 35,
   "id": "4f8217ae",
   "metadata": {},
   "outputs": [
    {
     "name": "stderr",
     "output_type": "stream",
     "text": [
      "[Stage 9470:=================================>                     (6 + 1) / 10]\r"
     ]
    },
    {
     "name": "stdout",
     "output_type": "stream",
     "text": [
      "+------+---------------------------------------------------------------------------------------------------+\n",
      "|userId|recommendations                                                                                    |\n",
      "+------+---------------------------------------------------------------------------------------------------+\n",
      "|496   |[{306, 4.6274776}, {89759, 4.5466237}, {85, 4.5039053}, {6591, 4.4702306}, {89904, 4.387729}]      |\n",
      "|31    |[{67618, 5.3032565}, {7121, 5.2470803}, {25771, 5.1859617}, {89745, 5.140826}, {183897, 5.0807595}]|\n",
      "|451   |[{96004, 5.3021526}, {3379, 5.3021526}, {171495, 5.256518}, {7767, 5.1576734}, {2360, 5.1573043}]  |\n",
      "|137   |[{96004, 4.690007}, {3379, 4.690007}, {4406, 4.6743455}, {6650, 4.580536}, {3030, 4.5738406}]      |\n",
      "|53    |[{96004, 6.4878244}, {3379, 6.4878244}, {171495, 6.478397}, {32892, 6.364195}, {1274, 6.3271685}]  |\n",
      "+------+---------------------------------------------------------------------------------------------------+\n",
      "\n"
     ]
    },
    {
     "name": "stderr",
     "output_type": "stream",
     "text": [
      "\r",
      "                                                                                \r"
     ]
    }
   ],
   "source": [
    "#return top 5 predicted ratings on smpl_usrs\n",
    "user_subset = predictions.select('userID').where(col('userID').isin(496, 31, 137, 451, 53)).distinct()\n",
    "\n",
    "top_predictions_subset_users=best_model.recommendForUserSubset(user_subset, 5)\n",
    "\n",
    "top_predictions_subset_users.show(truncate=False)"
   ]
  },
  {
   "cell_type": "code",
   "execution_count": 36,
   "id": "40007dad",
   "metadata": {},
   "outputs": [],
   "source": [
    "top_predictions_subset_users.createOrReplaceTempView(\"top_predictions_usr_subset_tmp\")\n",
    "\n",
    "subset_usr_recs=spark.sql(\"\"\"SELECT userId,\n",
    "                                 movieIds_and_ratings.movieId AS movieId,\n",
    "                                 movieIds_and_ratings.rating AS prediction\n",
    "                       FROM top_predictions_usr_subset_tmp\n",
    "                       LATERAL VIEW explode(recommendations) exploded_table\n",
    "                       AS movieIds_and_ratings\"\"\")"
   ]
  },
  {
   "cell_type": "code",
   "execution_count": 37,
   "id": "62002b21",
   "metadata": {},
   "outputs": [
    {
     "name": "stderr",
     "output_type": "stream",
     "text": [
      "                                                                                \r"
     ]
    },
    {
     "name": "stdout",
     "output_type": "stream",
     "text": [
      "+------+-------+--------------------+------+----------+--------------------+\n",
      "|userId|movieId|               title|rating|prediction|         genre_array|\n",
      "+------+-------+--------------------+------+----------+--------------------+\n",
      "|    31|  67618|Strictly Sexual (...|  null|       5.0|[Comedy, Drama, R...|\n",
      "|    31|  89745|Avengers, The (2012)|  null|       5.0|[Action, Adventur...|\n",
      "|    31|   7121|   Adam's Rib (1949)|  null|       5.0|   [Comedy, Romance]|\n",
      "|    31| 183897| Isle of Dogs (2018)|  null|       5.0| [Animation, Comedy]|\n",
      "|    31|  25771|Andalusian Dog, A...|  null|       5.0|           [Fantasy]|\n",
      "|    53|  96004|Dragon Ball Z: Th...|  null|       5.0|[Action, Adventur...|\n",
      "|    53|   3379| On the Beach (1959)|  null|       5.0|             [Drama]|\n",
      "|    53|  32892|Ivan's Childhood ...|  null|       5.0|        [Drama, War]|\n",
      "|    53| 171495|              Cosmos|  null|       5.0|[(no genres listed)]|\n",
      "|    53|   1274|        Akira (1988)|  null|       5.0|[Action, Adventur...|\n",
      "|   137|  96004|Dragon Ball Z: Th...|  null|       4.7|[Action, Adventur...|\n",
      "|   137|   3379| On the Beach (1959)|  null|       4.7|             [Drama]|\n",
      "|   137|   4406|Man Who Shot Libe...|  null|       4.7|[Crime, Drama, We...|\n",
      "|   137|   3030|      Yojimbo (1961)|  null|       4.6| [Action, Adventure]|\n",
      "|   451| 171495|              Cosmos|  null|       5.0|[(no genres listed)]|\n",
      "|   451|   7767|Best of Youth, Th...|  null|       5.0|             [Drama]|\n",
      "|   451|   3379| On the Beach (1959)|  null|       5.0|             [Drama]|\n",
      "|   451|   2360|Celebration, The ...|  null|       5.0|             [Drama]|\n",
      "|   451|  96004|Dragon Ball Z: Th...|  null|       5.0|[Action, Adventur...|\n",
      "|   496|    306|Three Colors: Red...|  null|       4.6|             [Drama]|\n",
      "|   496|  89759|Separation, A (Jo...|  null|       4.5|             [Drama]|\n",
      "|   496|  89904|   The Artist (2011)|  null|       4.4|[Comedy, Drama, R...|\n",
      "|   496|     85|Angels and Insect...|  null|       4.5|    [Drama, Romance]|\n",
      "|   496|   6591|Magdalene Sisters...|  null|       4.5|             [Drama]|\n",
      "+------+-------+--------------------+------+----------+--------------------+\n",
      "\n"
     ]
    }
   ],
   "source": [
    "subset_usr_movie_recs=subset_usr_recs.join(broadcast(movies_df), on='movieId', how='left')\\\n",
    "                                     .join(ratings_df, on=['userId', 'movieId'], how='left')\n",
    "\n",
    "\n",
    "subset_usr_movie_recs=subset_usr_movie_recs.withColumn('prediction',\n",
    "                                                       when(subset_usr_movie_recs.prediction<0.5, 0.5)\n",
    "                                                      .when(subset_usr_movie_recs.prediction>5,5)\n",
    "                                                      .otherwise(subset_usr_movie_recs.prediction))\n",
    "\n",
    "subset_usr_movie_recs=subset_usr_movie_recs.withColumn('prediction', round('prediction',1))\n",
    "\n",
    "subset_usr_movie_recs=subset_usr_movie_recs.select('userId', 'movieId', 'title', \n",
    "                                                   'rating', 'prediction', 'genre_array')\n",
    "\n",
    "\n",
    "#recommendations for unseen movies on sample users\n",
    "subset_usr_movie_recs.filter(subset_usr_movie_recs['rating'].isNull())\\\n",
    "                      .orderBy('userId').show(5*5)"
   ]
  },
  {
   "cell_type": "code",
   "execution_count": 38,
   "id": "41b919f9",
   "metadata": {},
   "outputs": [],
   "source": [
    "spark.stop()"
   ]
  },
  {
   "cell_type": "markdown",
   "id": "cd7b8cd5",
   "metadata": {},
   "source": [
    "### IV: Conclusion\n",
    "\n",
    "ALS models can be quite powerful in making recommendations without need for defining explicit features a priori.  The rank hyperparameter controls the number of latent features, and the complexity of the model.  We had allowed the cross validation to search rank values of 10, 15, and 20, and it returned rank 15 with regularization 0.1.  This underscores that more complex models are not necessarily better models.  We could have also allowed for varying the maxIter parameter, which controls the number of iterations the matrix factorization goes thru to approximate the original user-item matrix.  This however becomes computationally expensive especially when the calculations are done on a local machine, as opposed to a cluster.\n",
    "\n",
    "The final output above recommended movies not viewed for a select random sample of users.  Ultimately a model will get evaluated on whether viewers/users are responsive to recommendations and, after having a watched a movie, user ratings are close to predicted ratings.  In a production environment, we also have to consider the implementation of recommendation systems.  Whether recommendations are computed off-line, and then served, or done in real-time requires an understanding of daily user traffic (load) and coordination with engineers on the appropriate platform and architecture for the use case.   "
   ]
  }
 ],
 "metadata": {
  "kernelspec": {
   "display_name": "Python 3 (ipykernel)",
   "language": "python",
   "name": "python3"
  },
  "language_info": {
   "codemirror_mode": {
    "name": "ipython",
    "version": 3
   },
   "file_extension": ".py",
   "mimetype": "text/x-python",
   "name": "python",
   "nbconvert_exporter": "python",
   "pygments_lexer": "ipython3",
   "version": "3.9.16"
  }
 },
 "nbformat": 4,
 "nbformat_minor": 5
}
